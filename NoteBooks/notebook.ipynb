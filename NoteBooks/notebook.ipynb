{
 "cells": [
  {
   "cell_type": "markdown",
   "metadata": {},
   "source": [
    "### Import Libraries"
   ]
  },
  {
   "cell_type": "code",
   "execution_count": 1,
   "metadata": {},
   "outputs": [],
   "source": [
    "import os\n",
    "import warnings\n",
    "warnings.filterwarnings(\"ignore\")\n",
    "from dotenv import load_dotenv\n",
    "load_dotenv()\n",
    "from pprint import pprint\n",
    "import re\n",
    "\n",
    "from langchain.document_loaders import PyPDFLoader, DirectoryLoader\n",
    "from langchain.text_splitter import RecursiveCharacterTextSplitter\n",
    "from langchain.docstore.document import Document\n",
    "from langchain.prompts import PromptTemplate\n",
    "from langchain.chains.question_answering import load_qa_chain\n",
    "\n",
    "\n",
    "\n",
    "\n",
    "from langchain_google_genai import GoogleGenerativeAIEmbeddings, ChatGoogleGenerativeAI\n",
    "from langchain_community.vectorstores import FAISS"
   ]
  },
  {
   "cell_type": "code",
   "execution_count": 2,
   "metadata": {},
   "outputs": [],
   "source": [
    "## Access the api keys\n",
    "GEMINI_API_KEY = os.getenv(\"GEMINI_API_KEY\")"
   ]
  },
  {
   "cell_type": "markdown",
   "metadata": {},
   "source": [
    "### Work with the data"
   ]
  },
  {
   "cell_type": "code",
   "execution_count": 3,
   "metadata": {},
   "outputs": [
    {
     "data": {
      "text/plain": [
       "'d:\\\\RAGProjects\\\\RAG-Questions-Creator\\\\NoteBooks'"
      ]
     },
     "execution_count": 3,
     "metadata": {},
     "output_type": "execute_result"
    }
   ],
   "source": [
    "# check the current dire\n",
    "%pwd"
   ]
  },
  {
   "cell_type": "code",
   "execution_count": 13,
   "metadata": {},
   "outputs": [],
   "source": [
    "# function to extract the data from the data directory\n",
    "def data_extraction(data_dir):\n",
    "     loader = DirectoryLoader(path=data_dir,\n",
    "                              glob=\"*.pdf\",\n",
    "                              loader_cls=PyPDFLoader)\n",
    "     documents = loader.load()\n",
    "     return documents\n",
    "\n",
    "extracted_data = data_extraction(\"../DataSets/\")"
   ]
  },
  {
   "cell_type": "code",
   "execution_count": 14,
   "metadata": {},
   "outputs": [],
   "source": [
    "# extracted_data"
   ]
  },
  {
   "cell_type": "code",
   "execution_count": 15,
   "metadata": {},
   "outputs": [],
   "source": [
    "# function to chunk the extracted data\n",
    "def text_chunking(extracted_data):\n",
    "     text_chunker = RecursiveCharacterTextSplitter(chunk_size=20000, chunk_overlap=200)\n",
    "     chunks = text_chunker.split_documents(extracted_data)\n",
    "     # return [chunk.page_content for chunk in chunks]\n",
    "     return chunks\n",
    "\n",
    "text_chunks = text_chunking(extracted_data=extracted_data)"
   ]
  },
  {
   "cell_type": "code",
   "execution_count": 16,
   "metadata": {},
   "outputs": [
    {
     "name": "stdout",
     "output_type": "stream",
     "text": [
      "Num of chunks: 131\n"
     ]
    }
   ],
   "source": [
    "print(f\"Num of chunks: {len(text_chunks)}\")"
   ]
  },
  {
   "cell_type": "code",
   "execution_count": 17,
   "metadata": {},
   "outputs": [
    {
     "data": {
      "text/plain": [
       "langchain_core.documents.base.Document"
      ]
     },
     "execution_count": 17,
     "metadata": {},
     "output_type": "execute_result"
    }
   ],
   "source": [
    "# check the type of the chunked data\n",
    "type(text_chunks[0])"
   ]
  },
  {
   "cell_type": "markdown",
   "metadata": {},
   "source": [
    "### Define Embedding model"
   ]
  },
  {
   "cell_type": "code",
   "execution_count": 18,
   "metadata": {},
   "outputs": [],
   "source": [
    "# download the embedding model\n",
    "embedding_model = GoogleGenerativeAIEmbeddings(google_api_key=GEMINI_API_KEY, model=\"models/embedding-001\")"
   ]
  },
  {
   "cell_type": "code",
   "execution_count": 19,
   "metadata": {},
   "outputs": [
    {
     "name": "stdout",
     "output_type": "stream",
     "text": [
      "The vector databese created successfully in the 'd:\\RAGProjects\\RAG-Questions-Creator\\NoteBooks path' with name 'faiss-index'\n"
     ]
    }
   ],
   "source": [
    "# function to built the vector store database\n",
    "def vector_store(text_chunks: list[str]):\n",
    "     text_chunks = [chunk.page_content for chunk in text_chunks]\n",
    "     vector_db = FAISS.from_texts(texts=text_chunks, embedding=embedding_model)\n",
    "     folder_name = \"faiss-index\"\n",
    "     vector_db.save_local(folder_path=folder_name)\n",
    "     print(f\"The vector databese created successfully in the '{os.getcwd()} path' with name '{folder_name}'\")\n",
    "     return vector_db\n",
    "vector_db = vector_store(text_chunks)\n"
   ]
  },
  {
   "cell_type": "markdown",
   "metadata": {},
   "source": [
    "### Pipeline for Questions Generation"
   ]
  },
  {
   "cell_type": "code",
   "execution_count": 30,
   "metadata": {},
   "outputs": [
    {
     "name": "stdout",
     "output_type": "stream",
     "text": [
      "I can generate 50 essay questions based on the provided text, but I must point out that the text is quite fragmented and covers a range of topics from Python installation and exercises to specific code snippets. This makes it difficult to create a cohesive set of essay questions without making some assumptions and connections between the different parts. Also the answers will be based on the context provided.\n",
      "\n",
      "Here are 50 essay questions based on the provided content:\n",
      "\n",
      "1.  Explain why Python 3 is preferred over Python 2 for new projects, according to the text.\n",
      "    *   **Answer:** Python 3 is the present and future of the language and eliminates quirks that can trip up beginning programmers.\n",
      "\n",
      "2.  Describe the process of installing the Python interpreter, as outlined in the text.\n",
      "    *   **Answer:** Go to python.org/downloads/, click on the desired Python 3 version, and download the appropriate installer for your operating system.\n",
      "\n",
      "3.  If you learn Python 3, will you understand codes written in Python 2?\n",
      "    *   **Answer:** Python 2 and 3 are about 90% similar. Hence if you learn Python 3, you will likely have no problems understanding codes written in Python 2.\n",
      "\n",
      "4.  Explain the purpose of the `updateUserPoints` function and how it modifies the `userScores.txt` file.\n",
      "    *   **Answer:** The function updates a user's score in the `userScores.txt` file. If the user is new, it appends the user's name and score to the file. Otherwise, it rewrites the file with the updated score for the specified user.\n",
      "\n",
      "5.  Describe the steps involved in the `updateUserPoints` function when updating an existing user's score.\n",
      "    *   **Answer:** The function reads the original `userScores.txt` file, writes each line to a temporary file (`userScores.tmp`), updating the score for the specified user when found. Then, it deletes the original file and renames the temporary file to `userScores.txt`.\n",
      "\n",
      "6.  What steps are taken if the file userScores.txt is not found?\n",
      "    *   **Answer:** If the file userScores.txt is not found, a new file will be created.\n",
      "\n",
      "7.  Explain the purpose of the `getUserScore` function.\n",
      "    *   **Answer:** The purpose of the getUserScore function is to read data from the userScores.txt file, retrieve a specific user’s score, and return it.\n",
      "\n",
      "8.  Explain the purpose of the three variables declared to generate the questions.\n",
      "    *   **Answer:** To generate the questions, let’s first declare three variables: two lists and one dictionary.\n",
      "\n",
      "9.  Describe the purpose of the lists `operandList` and `operatorList` in the `generateQuestion` function.\n",
      "    *   **Answer:** `operandList` stores the numerical values (operands) used in the mathematical question. `operatorList` stores the mathematical operators (+, -, *, etc.) that will be placed between the operands.\n",
      "\n",
      "10. What is the purpose of the `operatorDict` dictionary in the `generateQuestion` function?\n",
      "    *   **Answer:** `operatorDict` maps integer values to the corresponding operator symbols, allowing the program to randomly select operators based on their assigned integer.\n",
      "\n",
      "11. Explain the significance of control flow tools in programming, mentioning the specific tools listed in the text.\n",
      "    *   **Answer:** Control flow tools (if statement, for loop, while loop) control the flow of the program.\n",
      "\n",
      "12. Describe the purpose of the `try, except` statement in programming.\n",
      "    *   **Answer:** The `try, except` statement determines what the program should do when an error occurs.\n",
      "\n",
      "13. Explain the use of variables and operators in Python.\n",
      "    *   **Answer:** Variables are used to store data, and operators are used to perform operations on that data.\n",
      "\n",
      "14. What are the challenges in generating mathematical questions for users?\n",
      "    *   **Answer:** The challenges includes avoiding very large or very small answers, and including brackets in the questions.\n",
      "\n",
      "15. Describe how you would modify the program to include the division operator.\n",
      "    *   **Answer:** Modify the program so that it’ll generate questions with the division sign too, and check the user’s answer against the correct answer using the `round()` function.\n",
      "\n",
      "16. How to prevent questions that result in answers greater than 50 000 or smaller than -50000?\n",
      "    *   **Answer:** Modify the program to prevent questions that result in answers greater than 50 000 or smaller than -50000.\n",
      "\n",
      "17. What are the advantages of studying other people’s codes?\n",
      "    *   **Answer:** You will learn a lot by studying other people’s codes.\n",
      "\n",
      "18. Explain the syntax and usage of the `if` statement in Python.\n",
      "    *   **Answer:** The `if` statement evaluates a condition and executes a block of code if the condition is true.\n",
      "\n",
      "19. Explain the syntax and usage of the `for` loop in Python.\n",
      "    *   **Answer:** The `for` loop iterates over a sequence (e.g., a list or range) and executes a block of code for each element in the sequence.\n",
      "\n",
      "20. Explain the syntax and usage of the `while` loop in Python.\n",
      "    *   **Answer:** The `while` loop executes a block of code repeatedly as long as a condition is true.\n",
      "\n",
      "21. How to generate questions with brackets?\n",
      "    *   **Answer:** Modify the program so that the questions use brackets too, for example 2 + (3*7 -1) + 5.\n",
      "\n",
      "22. What is the purpose of importing libraries in Python? Give example of libraries.\n",
      "    *   **Answer:** Importing libraries allows you to use pre-written functions and modules in your code. For example, `from random import randint` and `from os import remove, rename`.\n",
      "\n",
      "23. Explain how to handle potential `IOError` exceptions when working with files.\n",
      "    *   **Answer:** Use a `try...except` block to catch the `IOError` exception.\n",
      "\n",
      "24. Describe the steps to rename a file in Python.\n",
      "    *   **Answer:** Use the `rename()` function from the `os` module.\n",
      "\n",
      "25. Describe the steps to remove a file in Python.\n",
      "    *   **Answer:** Use the `remove()` function from the `os` module.\n",
      "\n",
      "26. Explain how to write data to a file in Python.\n",
      "    *   **Answer:** Open the file in write mode (`'w'`) using the `open()` function, then use the `write()` method to write data to the file.\n",
      "\n",
      "27. Explain how to read data from a file in Python.\n",
      "    *   **Answer:** Open the file in read mode (`'r'`) using the `open()` function, then use methods like `read()` or `readline()` to read data from the file.\n",
      "\n",
      "28. Explain how to append data to a file in Python.\n",
      "    *   **Answer:** Open the file in append mode (`'a'`) using the `open()` function, then use the `write()` method to add data to the end of the file.\n",
      "\n",
      "29. How do you ensure that a file is properly closed after use in Python?\n",
      "    *   **Answer:** Use the `close()` method on the file object or use a `with` statement to automatically close the file.\n",
      "\n",
      "30. What is the difference between the 'w', 'r', and 'a' modes when opening a file in Python?\n",
      "    *   **Answer:** `'w'` opens the file for writing (overwrites existing content), `'r'` opens the file for reading, and `'a'` opens the file for appending (adds to the end of the file).\n",
      "\n",
      "31. How can you split a line of text into separate values based on a delimiter?\n",
      "    *   **Answer:** Use the `split()` method of a string, specifying the delimiter as an argument.\n",
      "\n",
      "32. What is the purpose of the `randint()` function?\n",
      "    *   **Answer:** The `randint()` function returns a random integer between the specified values.\n",
      "\n",
      "33. How do you handle a situation where a file required by your program is missing?\n",
      "    *   **Answer:** Use a `try...except` block to catch the `IOError` exception, and then create a new file or take other appropriate actions.\n",
      "\n",
      "34. How would you modify the `generateQuestion` function to include exponentiation?\n",
      "    *   **Answer:** Add an exponentiation operator to the `operatorDict` dictionary and modify the code to randomly select this operator.\n",
      "\n",
      "35. How would you modify the `generateQuestion` function to control the range of numbers used?\n",
      "    *   **Answer:** Modify the arguments passed to the `randint()` function to specify the desired range.\n",
      "\n",
      "36. Explain how to debug a Python program.\n",
      "    *   **Answer:** Use print statements to check the values of variables at different points in the code, use a debugger, and read error messages carefully.\n",
      "\n",
      "37. What are some common errors that beginners make when learning Python?\n",
      "    *   **Answer:** Syntax errors, indentation errors, and type errors are common mistakes.\n",
      "\n",
      "38. How would you improve the user experience of the math question program?\n",
      "    *   **Answer:** Provide clear instructions, give feedback on incorrect answers, and allow users to customize the difficulty level.\n",
      "\n",
      "39. How would you add a feature to track the user's score and display it at the end of the session?\n",
      "    *   **Answer:** Use a variable to keep track of the score, increment it for correct answers, and display the final score.\n",
      "\n",
      "40. How would you add a timer to the math question program to limit the time the user has to answer each question?\n",
      "    *   **Answer:** Use the `time` module to measure the time taken to answer each question and provide feedback if the user takes too long.\n",
      "\n",
      "41. Explain the concept of modular programming and how it can be applied to the math question program.\n",
      "    *   **Answer:** Modular programming involves breaking down the program into smaller, reusable modules (functions).\n",
      "\n",
      "42. How would you modify the program to allow the user to choose the types of mathematical operations to include?\n",
      "    *   **Answer:** Present the user with a menu of options and use conditional statements to generate questions with the selected operations.\n",
      "\n",
      "43. How would you modify the program to store user scores in a more persistent way, such as in a database?\n",
      "    *   **Answer:** Use a database library (e.g., `sqlite3`) to connect to a database and store the scores in a table.\n",
      "\n",
      "44. How would you add error handling to the functions that read and write to the `userScores.txt` file?\n",
      "    *   **Answer:** Use `try...except` blocks to catch potential `IOError` exceptions.\n",
      "\n",
      "45. How can you ensure that the `userScores.txt` file is properly formatted and that the data is valid?\n",
      "    *   **Answer:** Implement validation checks when reading and writing data to the file.\n",
      "\n",
      "46. How can you prevent the program from crashing if the user enters invalid input?\n",
      "    *   **Answer:** Use `try...except` blocks to catch `ValueError` exceptions when converting user input to numbers.\n",
      "\n",
      "47. What are some best practices for writing clean and maintainable Python code?\n",
      "    *   **Answer:** Use meaningful variable names, write comments, and follow the PEP 8 style guide.\n",
      "\n",
      "48. How would you add a feature to allow the user to review their past performance?\n",
      "    *   **Answer:** Store the user's past scores in a file or database and provide a way for the user to view them.\n",
      "\n",
      "49. How would you modify the program to support multiple users?\n",
      "    *   **Answer:** Store the scores for each user separately, using a dictionary or database table.\n",
      "\n",
      "50. How could you expand the math question program to include more advanced mathematical concepts?\n",
      "    *   **Answer:** Add support for more complex operations, such as trigonometry or calculus.\n"
     ]
    }
   ],
   "source": [
    "# Define the function to take user query and return results\n",
    "def user_query(question, num_questions, difficulty_level, question_types, include_answers):\n",
    "    embedding_model = GoogleGenerativeAIEmbeddings(model=\"models/embedding-001\",\n",
    "                                                   google_api_key=GEMINI_API_KEY)\n",
    "    \n",
    "    # Load FAISS index from local storage\n",
    "    new_db = FAISS.load_local(folder_path=\"faiss-index\",\n",
    "                              embeddings=embedding_model,\n",
    "                              allow_dangerous_deserialization=True)\n",
    "    \n",
    "    # Perform similarity search to get relevant documents\n",
    "    docs = new_db.similarity_search(query=question, k=10)\n",
    "    \n",
    "    # Prepare the input for the chain\n",
    "    chain_input = {\n",
    "        \"input_documents\": docs,\n",
    "        \"input\": question,\n",
    "        \"num_questions\": num_questions,\n",
    "        \"difficulty_level\": difficulty_level,\n",
    "        \"question_types\": question_types,\n",
    "        \"include_answers\": include_answers\n",
    "    }\n",
    "    \n",
    "    exam_prompt = \"\"\"You are a knowledgeable and professional AI assistant that specializes in generating high-quality exam questions.\n",
    "\n",
    "                    Your role is to:\n",
    "\n",
    "                    1. Generate clear, accurate, and well-structured exam questions based on the provided context and requirements.\n",
    "                    2. Ensure that questions are relevant to the given subject, topic, and difficulty level.\n",
    "                    3. Vary the question types if requested (e.g., multiple choice, true/false, short answer, essay).\n",
    "                    4. Provide correct answers or model answers if specified.\n",
    "                    5. Follow academic standards and avoid overly simplistic or overly complex wording unless specified.\n",
    "                    6. If context is not enough to generate meaningful questions, acknowledge the limitation and ask for more detail.\n",
    "\n",
    "                    Remember:\n",
    "                    - Do not make up unrelated information.\n",
    "                    - Stick closely to the topic and subject area.\n",
    "                    - Maintain clarity and educational value in all questions.\n",
    "                    - Avoid repetition unless explicitly instructed.\n",
    "                    - Ensure consistency with the question format and style.\n",
    "                    - Do not put words in \" \" or ' '\n",
    "\n",
    "                    Context:\n",
    "                    {context}\n",
    "\n",
    "                    Instructions:\n",
    "                    - Number of Questions: {num_questions} and print them under each other\n",
    "                    - Difficulty Level: {difficulty_level}\n",
    "                    - Question Type(s): {question_types}\n",
    "                    - Include Answers: {include_answers}\n",
    "\n",
    "                    Now, generate the questions based on the above.\"\"\"\n",
    "\n",
    "    \n",
    "    exam_prompt_template = PromptTemplate(\n",
    "        input_variables=[\"context\", \"num_questions\", \"difficulty_level\", \"question_types\", \"include_answers\"],\n",
    "        template=exam_prompt\n",
    "    )\n",
    "\n",
    "    \n",
    "    model = ChatGoogleGenerativeAI(api_key=GEMINI_API_KEY, model=\"gemini-2.0-flash\")\n",
    "\n",
    "   \n",
    "    chain = load_qa_chain(llm=model, prompt=exam_prompt_template)\n",
    "\n",
    "    \n",
    "    response = chain(chain_input, return_only_outputs=True)\n",
    "    \n",
    "    \n",
    "    return response[\"output_text\"]\n",
    "\n",
    "user_inputs = {\n",
    "    \"num_questions\": \"50\",\n",
    "    \"difficulty_level\": \"Medium\",\n",
    "    \"question_types\": \"essay\",\n",
    "    \"include_answers\": \"Yes\"\n",
    "}\n",
    "\n",
    "response = user_query(\n",
    "    question=\"Give me Questions on Chapter 3 only\",  \n",
    "    num_questions=user_inputs[\"num_questions\"],\n",
    "    difficulty_level=user_inputs[\"difficulty_level\"],\n",
    "    question_types=user_inputs[\"question_types\"],\n",
    "    include_answers=user_inputs[\"include_answers\"]\n",
    ")\n",
    "\n",
    "# Output the generated questions\n",
    "print(response)"
   ]
  },
  {
   "cell_type": "markdown",
   "metadata": {},
   "source": [
    "### Built RAG model for Answer about questions"
   ]
  },
  {
   "cell_type": "code",
   "execution_count": 16,
   "metadata": {},
   "outputs": [],
   "source": [
    "prompt_template = \"\"\"You are a knowledgeable and professional AI assistant specializing in providing accurate information from the given context.\n",
    "                         Your role is to:\\n\\n\"\n",
    "                         \"1. Provide clear, concise, and accurate answers based on the provided context and conversation history\\n\"\n",
    "                         \"2. If the context doesn't contain enough information to fully answer a question, acknowledge this limitation\\n\"\n",
    "                         \"3. Maintain a professional and helpful tone while ensuring factual accuracy\\n\"\n",
    "                         \"4. Use direct quotes from the context when relevant to support your answers\\n\"\n",
    "                         \"5. Organize complex responses in a structured, easy-to-read format\\n\"\n",
    "                         \"6. Consider the previous conversation history to maintain context and provide coherent responses\\n\"\n",
    "                         \"7. If you need to make assumptions, explicitly state them\\n\\n\"\n",
    "                         \"8. If the Questions is multiple choices give me the correct answer and the reason in just 1 line\\n\"\n",
    "                         \"Remember:\\n\"\n",
    "                         \"- Stay within the scope of the provided context\\n\"\n",
    "                         \"- Use conversation history to better understand the context of questions\\n\"\n",
    "                         \"- Avoid making up information or speculating beyond the given content\\n\"\n",
    "                         \"- If multiple interpretations are possible, present them clearly\\n\"\n",
    "                         \"- Maintain consistency in your responses\\n\\n\"\n",
    "                         \"Context from documents:\\n{context}\\n\\n\"\n",
    "                         \"Question: {input}\\n\\n\"\n",
    "                         \"Answer: \n",
    "                         \"\"\"\n",
    "                         \n",
    "model = ChatGoogleGenerativeAI(api_key=GEMINI_API_KEY, model=\"gemini-2.0-flash\")\n",
    "prompt = PromptTemplate(template=prompt_template, input_variables=[\"context\", \"input\"])\n",
    "chain = load_qa_chain(llm=model, prompt=prompt)"
   ]
  },
  {
   "cell_type": "code",
   "execution_count": 17,
   "metadata": {},
   "outputs": [],
   "source": [
    "# function to take the user questions\n",
    "\n",
    "def user_query(questions: list[str]):\n",
    "     new_db = FAISS.load_local(folder_path=\"faiss-index\",\n",
    "                               embeddings=embedding_model,\n",
    "                               allow_dangerous_deserialization=True)\n",
    "     \n",
    "     docs = []\n",
    "     for question in questions:\n",
    "          doc = new_db.similarity_search(query=question, k=10)\n",
    "          \n",
    "          chain_input = {\n",
    "               \"input_documents\": doc,\n",
    "               \"input\": question\n",
    "          }\n",
    "          \n",
    "          response = chain(chain_input,\n",
    "                      return_only_outputs= True)\n",
    "     \n",
    "          docs.append([response[\"output_text\"]])\n",
    "     return docs"
   ]
  },
  {
   "cell_type": "code",
   "execution_count": 23,
   "metadata": {},
   "outputs": [],
   "source": [
    "questions = [\n",
    "     \"Which of the following is the MOST accurate definition of text classification?\\n    *   (A) The process of uncovering hidden topics within a text document.\\n    *   (B) The task of assigning one or more categories to a given text from a predefined set of categories.\\n    *   (C) The identification of the author of an unknown text.\\n    *   (D) The conversion of text into numerical data for analysis.\\n \",\n",
    "     \"Which of the following is an example of multiclass text classification?\\n    *   (A) Identifying an email as spam or not spam.\\n    *   (B) Determining if a news article is fake or real.\\n    *   (C) Classifying customer reviews as positive, negative, or neutral.\\n    *   (D) Tagging a news article as either 'sports' or 'politics'.\\n\",\n",
    "]\n",
    "\n",
    "\n",
    "answers = user_query(questions)"
   ]
  },
  {
   "cell_type": "code",
   "execution_count": 24,
   "metadata": {},
   "outputs": [
    {
     "data": {
      "text/plain": [
       "[['(B) The task of assigning one or more categories to a given text from a predefined set of categories, because text classification is defined as \"the task of assigning one or more categories to a given piece of text from a larger set of possible categories.\"'],\n",
       " ['(C) Classifying customer reviews as positive, negative, or neutral, because multiclass classification involves more than two classes.']]"
      ]
     },
     "execution_count": 24,
     "metadata": {},
     "output_type": "execute_result"
    }
   ],
   "source": [
    "answers"
   ]
  },
  {
   "cell_type": "code",
   "execution_count": null,
   "metadata": {},
   "outputs": [],
   "source": []
  }
 ],
 "metadata": {
  "kernelspec": {
   "display_name": "Python 3",
   "language": "python",
   "name": "python3"
  },
  "language_info": {
   "codemirror_mode": {
    "name": "ipython",
    "version": 3
   },
   "file_extension": ".py",
   "mimetype": "text/x-python",
   "name": "python",
   "nbconvert_exporter": "python",
   "pygments_lexer": "ipython3",
   "version": "3.10.16"
  }
 },
 "nbformat": 4,
 "nbformat_minor": 2
}
